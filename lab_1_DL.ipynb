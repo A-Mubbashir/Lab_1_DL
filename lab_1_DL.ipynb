{
  "nbformat": 4,
  "nbformat_minor": 0,
  "metadata": {
    "colab": {
      "provenance": []
    },
    "kernelspec": {
      "name": "python3",
      "display_name": "Python 3"
    },
    "language_info": {
      "name": "python"
    }
  },
  "cells": [
    {
      "cell_type": "code",
      "execution_count": 7,
      "metadata": {
        "colab": {
          "base_uri": "https://localhost:8080/"
        },
        "id": "oGv898q8mFWS",
        "outputId": "a23f355f-fc87-4689-ace4-8ca2be6af3f7"
      },
      "outputs": [
        {
          "output_type": "stream",
          "name": "stdout",
          "text": [
            "Tensor: [[ 9.247681   1.8706456 18.105057   8.396138  11.45101  ]\n",
            " [16.947342  15.848382  18.719984   7.328684  11.448613 ]\n",
            " [17.26648    3.1537142  7.258832  16.786196  13.909014 ]\n",
            " [ 6.062689   2.1527667 14.045347   8.45727   12.795698 ]\n",
            " [12.290527  18.275225   7.926074  19.677822  18.503042 ]]\n",
            "Sum: 297.92426\n",
            "Mean: 11.91697\n",
            "Max: 19.677822\n",
            "3D Tensor: [[[12.717478   9.4507475  8.395277 ]\n",
            "  [ 6.2855515 10.429748  19.383698 ]\n",
            "  [13.286725   4.872589  17.02681  ]]\n",
            "\n",
            " [[ 2.1010027 19.98514   15.350741 ]\n",
            "  [ 8.380186  19.285057   6.12648  ]\n",
            "  [ 3.247065   1.8579595 13.500707 ]]\n",
            "\n",
            " [[13.325823   9.756042  18.78207  ]\n",
            "  [ 1.2866532  9.406218   2.566707 ]\n",
            "  [15.630391   3.2925322 12.555785 ]]]\n",
            "Specific Element (1,1,1): 19.285057\n",
            "2D Slice: [[ 2.1010027 19.98514   15.350741 ]\n",
            " [ 8.380186  19.285057   6.12648  ]\n",
            " [ 3.247065   1.8579595 13.500707 ]]\n",
            "1D Slice: [ 8.380186 19.285057  6.12648 ]\n"
          ]
        }
      ],
      "source": [
        "import tensorflow as tf\n",
        "import numpy as np\n",
        "\n",
        "# Task 1.1: Create a TensorFlow tensor with random float values and compute sum, mean, max\n",
        "tensor = tf.random.uniform(shape=(5, 5), minval=1, maxval=20, dtype=tf.float32)\n",
        "sum_tensor = tf.reduce_sum(tensor)\n",
        "mean_tensor = tf.reduce_mean(tensor)\n",
        "max_tensor = tf.reduce_max(tensor)\n",
        "\n",
        "print(\"Tensor:\", tensor.numpy())\n",
        "print(\"Sum:\", sum_tensor.numpy())\n",
        "print(\"Mean:\", mean_tensor.numpy())\n",
        "print(\"Max:\", max_tensor.numpy())\n",
        "\n",
        "# Task 1.2: Create a 3D TensorFlow tensor and access specific elements\n",
        "tensor_3d = tf.random.uniform(shape=(3, 3, 3), minval=1, maxval=20, dtype=tf.float32)\n",
        "print(\"3D Tensor:\", tensor_3d.numpy())\n",
        "print(\"Specific Element (1,1,1):\", tensor_3d.numpy()[1, 1, 1])\n",
        "print(\"2D Slice:\", tensor_3d.numpy()[1, :, :])\n",
        "print(\"1D Slice:\", tensor_3d.numpy()[1, 1, :])"
      ]
    },
    {
      "cell_type": "code",
      "source": [
        "# Task 2: Function for tensor operations\n",
        "def tensor_operations(tensor1, tensor2):\n",
        "    tensor1 = tf.constant(tensor1, dtype=tf.float32)\n",
        "    tensor2 = tf.constant(tensor2, dtype=tf.float32)\n",
        "    return {\n",
        "        \"addition\": tf.add(tensor1, tensor2).numpy(),\n",
        "        \"subtraction\": tf.subtract(tensor1, tensor2).numpy(),\n",
        "        \"multiplication\": tf.multiply(tensor1, tensor2).numpy(),\n",
        "        \"division\": tf.divide(tensor1, tensor2).numpy()\n",
        "    }\n",
        "\n",
        "tensor1 = [10, 20, 30]\n",
        "tensor2 = [5, 10, 15]\n",
        "result = tensor_operations(tensor1, tensor2)\n",
        "\n",
        "print(\"Addition:\\n\", result[\"addition\"])\n",
        "print(\"Subtraction:\\n\", result[\"subtraction\"])\n",
        "print(\"Multiplication:\\n\", result[\"multiplication\"])\n",
        "print(\"Division:\\n\", result[\"division\"])"
      ],
      "metadata": {
        "colab": {
          "base_uri": "https://localhost:8080/"
        },
        "id": "8QFGsPIeshxX",
        "outputId": "f2bd7c84-f9f4-4e64-d78f-6f37c22cc8f9"
      },
      "execution_count": 5,
      "outputs": [
        {
          "output_type": "stream",
          "name": "stdout",
          "text": [
            "Addition:\n",
            " [15. 30. 45.]\n",
            "Subtraction:\n",
            " [ 5. 10. 15.]\n",
            "Multiplication:\n",
            " [ 50. 200. 450.]\n",
            "Division:\n",
            " [2. 2. 2.]\n"
          ]
        }
      ]
    },
    {
      "cell_type": "code",
      "source": [
        "# Task 3.1: Create a NumPy array, sort in ascending and descending order\n",
        "array = np.random.rand(10)\n",
        "ascending_sorted = np.sort(array)\n",
        "descending_sorted = np.sort(array)[::-1]\n",
        "print(\"Original Array:\", array)\n",
        "print(\"Ascending Sorted:\", ascending_sorted)\n",
        "print(\"Descending Sorted:\", descending_sorted)\n",
        "\n",
        "# Task 3.2: Create a 2x2 NumPy matrix, compute transpose and inverse\n",
        "matrix = np.random.rand(2, 2)\n",
        "transpose = np.transpose(matrix)\n",
        "inverse = np.linalg.inv(matrix)\n",
        "print(\"Matrix:\", matrix)\n",
        "print(\"Transpose:\", transpose)\n",
        "print(\"Inverse:\", inverse)\n",
        "\n",
        "# Task 3.3: Create a 2D NumPy array, compute row sum, column mean, and standard deviation\n",
        "matrix_2d = np.random.rand(3, 3)\n",
        "row_sums = np.sum(matrix_2d, axis=1)\n",
        "column_means = np.mean(matrix_2d, axis=0)\n",
        "std_dev = np.std(matrix_2d)\n",
        "print(\"2D Array:\", matrix_2d)\n",
        "print(\"Row Sums:\", row_sums)\n",
        "print(\"Column Means:\", column_means)\n",
        "print(\"Standard Deviation:\", std_dev)\n"
      ],
      "metadata": {
        "colab": {
          "base_uri": "https://localhost:8080/"
        },
        "id": "RlOZ3RXQujsA",
        "outputId": "16137815-6260-4924-eaa0-05b39cdc8998"
      },
      "execution_count": 6,
      "outputs": [
        {
          "output_type": "stream",
          "name": "stdout",
          "text": [
            "Original Array: [0.59682914 0.03656609 0.12803917 0.01391931 0.92901524 0.94336706\n",
            " 0.85225699 0.13040493 0.84990417 0.49436239]\n",
            "Ascending Sorted: [0.01391931 0.03656609 0.12803917 0.13040493 0.49436239 0.59682914\n",
            " 0.84990417 0.85225699 0.92901524 0.94336706]\n",
            "Descending Sorted: [0.94336706 0.92901524 0.85225699 0.84990417 0.59682914 0.49436239\n",
            " 0.13040493 0.12803917 0.03656609 0.01391931]\n",
            "Matrix: [[0.17468714 0.81922558]\n",
            " [0.84639995 0.14800392]]\n",
            "Transpose: [[0.17468714 0.84639995]\n",
            " [0.81922558 0.14800392]]\n",
            "Inverse: [[-0.22171607  1.22723418]\n",
            " [ 1.26794252 -0.26168864]]\n",
            "2D Array: [[0.31660846 0.08831326 0.85315129]\n",
            " [0.73738104 0.08759342 0.45909334]\n",
            " [0.09148457 0.84280088 0.12547879]]\n",
            "Row Sums: [1.258073   1.2840678  1.05976424]\n",
            "Column Means: [0.38182469 0.33956919 0.47924114]\n",
            "Standard Deviation: 0.3146392277466911\n"
          ]
        }
      ]
    }
  ]
}